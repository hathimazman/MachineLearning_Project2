{
 "cells": [
  {
   "cell_type": "markdown",
   "id": "86d7b20c",
   "metadata": {},
   "source": [
    "# Libraries"
   ]
  },
  {
   "cell_type": "code",
   "execution_count": null,
   "id": "7f65d006",
   "metadata": {},
   "outputs": [],
   "source": [
    "# Importing relevant packages\n",
    "import pandas as pd\n",
    "import numpy as np\n",
    "import matplotlib.pyplot as plt\n",
    "import seaborn as sns\n",
    "from scipy.stats import ttest_ind\n",
    "\n",
    "# preprocessing\n",
    "from sklearn.model_selection import train_test_split\n",
    "from sklearn.preprocessing import StandardScaler, OneHotEncoder\n",
    "from sklearn.compose import ColumnTransformer\n",
    "\n",
    "# Sampler\n",
    "from imblearn.over_sampling import SMOTENC\n",
    "from imblearn.under_sampling import RandomUnderSampler\n",
    "\n",
    "# modelling packages\n",
    "from sklearn.linear_model import LogisticRegression\n",
    "from sklearn.tree import DecisionTreeClassifier\n",
    "\n",
    "# model evaluation\n",
    "from sklearn.pipeline import Pipeline\n",
    "from sklearn.model_selection import GridSearchCV, cross_val_predict, cross_val_score\n",
    "from sklearn.metrics import recall_score, precision_score, f1_score, roc_auc_score, accuracy_score, confusion_matrix\n",
    "from sklearn.metrics import classification_report\n",
    "\n",
    "# Suppress warnings for cleaner output\n",
    "import warnings\n",
    "warnings.filterwarnings(\"ignore\")"
   ]
  },
  {
   "cell_type": "markdown",
   "id": "01faf839",
   "metadata": {},
   "source": [
    "# EDA "
   ]
  },
  {
   "cell_type": "markdown",
   "id": "2c62d51b",
   "metadata": {},
   "source": [
    "## Explore Categorical Features"
   ]
  },
  {
   "cell_type": "markdown",
   "id": "fd5a00ea",
   "metadata": {},
   "source": [
    "## Explore Numerical Features"
   ]
  },
  {
   "cell_type": "markdown",
   "id": "c4158faa",
   "metadata": {},
   "source": [
    "## Explore Target Variable"
   ]
  },
  {
   "cell_type": "markdown",
   "id": "6d48963f",
   "metadata": {},
   "source": [
    "## Relationship between Features and Target"
   ]
  },
  {
   "cell_type": "markdown",
   "id": "7f750e4a",
   "metadata": {},
   "source": [
    "# Data Engineering"
   ]
  },
  {
   "cell_type": "markdown",
   "id": "093b5e6c",
   "metadata": {},
   "source": [
    "## Explore and manage missing values"
   ]
  },
  {
   "cell_type": "markdown",
   "id": "f357c391",
   "metadata": {},
   "source": [
    "## Train Test Split"
   ]
  },
  {
   "cell_type": "markdown",
   "id": "895e757d",
   "metadata": {},
   "source": [
    "## Data Preprocessing"
   ]
  },
  {
   "cell_type": "markdown",
   "id": "d45c3a2e",
   "metadata": {},
   "source": [
    "### Sampling Method 1"
   ]
  },
  {
   "cell_type": "markdown",
   "id": "fd4c8303",
   "metadata": {},
   "source": [
    "### Sampling Method 2"
   ]
  },
  {
   "cell_type": "markdown",
   "id": "ccd5eb6f",
   "metadata": {},
   "source": [
    "## Sampling Method 3"
   ]
  },
  {
   "cell_type": "markdown",
   "id": "bf34af09",
   "metadata": {},
   "source": [
    "### Sampling Method 4"
   ]
  },
  {
   "cell_type": "markdown",
   "id": "634f1955",
   "metadata": {
    "vscode": {
     "languageId": "plaintext"
    }
   },
   "source": [
    "# Modelling"
   ]
  },
  {
   "cell_type": "markdown",
   "id": "f65738db",
   "metadata": {},
   "source": [
    "## Model Building"
   ]
  },
  {
   "cell_type": "markdown",
   "id": "c93d245d",
   "metadata": {},
   "source": [
    "### Common functions for reproducibility"
   ]
  },
  {
   "cell_type": "markdown",
   "id": "c41a9d10",
   "metadata": {},
   "source": [
    "### Base model"
   ]
  },
  {
   "cell_type": "code",
   "execution_count": null,
   "id": "a990bcfb",
   "metadata": {},
   "outputs": [],
   "source": [
    "dt_model = DecisionTreeClassifier(random_state=42)\n",
    "lr_model = LogisticRegression(random_state=42, max_iter=1000)"
   ]
  },
  {
   "cell_type": "markdown",
   "id": "f849cbba",
   "metadata": {},
   "source": [
    "### Models with sampling method 1"
   ]
  },
  {
   "cell_type": "markdown",
   "id": "dd9b1144",
   "metadata": {},
   "source": [
    "### Models with sampling method 2"
   ]
  },
  {
   "cell_type": "markdown",
   "id": "9984a9fb",
   "metadata": {},
   "source": [
    "### Models with sampling method 3"
   ]
  },
  {
   "cell_type": "markdown",
   "id": "9779da84",
   "metadata": {},
   "source": [
    "### Models with sampling method 4"
   ]
  },
  {
   "cell_type": "markdown",
   "id": "79f88e84",
   "metadata": {},
   "source": [
    "This final sampling method is a hybrid method of sampling which combines SMOTE-NC and RUS\n",
    "\n",
    "https://www.mdpi.com/2078-2489/14/1/54"
   ]
  },
  {
   "cell_type": "markdown",
   "id": "912a7147",
   "metadata": {},
   "source": [
    "#### SMOTE-NC"
   ]
  },
  {
   "cell_type": "code",
   "execution_count": null,
   "id": "ff7b40d8",
   "metadata": {},
   "outputs": [],
   "source": [
    "# Identify categorical columns (indices)\n",
    "categorical_features = X.select_dtypes(include=['object', 'category']).columns\n",
    "categorical_indices = [X.columns.get_loc(col) for col in categorical_features]\n",
    "\n",
    "# Initialize SMOTE-NC\n",
    "desired_ratio = 0.8  # example: make minority class 80% of majority\n",
    "smote_nc = SMOTENC(categorical_features=categorical_indices, sampling_strategy=desired_ratio, k_neighbors=5, random_state=42)\n",
    "\n",
    "# Fit and resample\n",
    "X_resampled, y_resampled = smote_nc.fit_resample(X, y)"
   ]
  },
  {
   "cell_type": "markdown",
   "id": "ece4a7e2",
   "metadata": {},
   "source": [
    "#### RUS"
   ]
  },
  {
   "cell_type": "code",
   "execution_count": null,
   "id": "aa0d7fae",
   "metadata": {},
   "outputs": [],
   "source": [
    "# Initialize RUS to match minority class count\n",
    "rus = RandomUnderSampler(sampling_strategy='auto', random_state=42)\n",
    "\n",
    "# Apply undersampling\n",
    "X_hybrid, y_hybrid = rus.fit_resample(X_resampled, y_resampled)\n"
   ]
  },
  {
   "cell_type": "markdown",
   "id": "e34f55ec",
   "metadata": {},
   "source": [
    "### Visualize the differences"
   ]
  },
  {
   "cell_type": "code",
   "execution_count": null,
   "id": "0f8cb691",
   "metadata": {},
   "outputs": [],
   "source": [
    "fig, ax = plt.subplots(figsize=(10, 6), ncols=3, nrows=1)\n",
    "\n",
    "# Original y distribution\n",
    "sns.countplot(x=y, ax=ax[0])\n",
    "ax[0].set_title('Original y Distribution')\n",
    "\n",
    "# Resampled y distribution after SMOTE-NC\n",
    "sns.countplot(x=y_resampled, ax=ax[1])\n",
    "ax[1].set_title('y Distribution after SMOTE-NC')\n",
    "\n",
    "# Final y distribution after undersampling\n",
    "sns.countplot(x=y_hybrid, ax=ax[2])\n",
    "ax[2].set_title('y Distribution after Undersampling')\n",
    "plt.tight_layout()\n",
    "plt.show()\n"
   ]
  },
  {
   "cell_type": "markdown",
   "id": "5750610b",
   "metadata": {},
   "source": [
    "## Model Validation and Hyperparameter Tuning"
   ]
  },
  {
   "cell_type": "markdown",
   "id": "2de404e4",
   "metadata": {},
   "source": [
    "## Model Evaluation"
   ]
  },
  {
   "cell_type": "markdown",
   "id": "2abe9c4a",
   "metadata": {},
   "source": [
    "# Implications"
   ]
  },
  {
   "cell_type": "markdown",
   "id": "2388ba41",
   "metadata": {},
   "source": [
    "# "
   ]
  }
 ],
 "metadata": {
  "kernelspec": {
   "display_name": "ent_project",
   "language": "python",
   "name": "python3"
  },
  "language_info": {
   "name": "python",
   "version": "3.10.16"
  }
 },
 "nbformat": 4,
 "nbformat_minor": 5
}
