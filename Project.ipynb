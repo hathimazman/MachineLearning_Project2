{
 "cells": [
  {
   "cell_type": "markdown",
   "id": "86d7b20c",
   "metadata": {},
   "source": [
    "# Libraries"
   ]
  },
  {
   "cell_type": "code",
   "execution_count": 2,
   "id": "7f65d006",
   "metadata": {},
   "outputs": [],
   "source": [
    "# Importing relevant packages\n",
    "import pandas as pd\n",
    "import numpy as np\n",
    "import matplotlib.pyplot as plt\n",
    "import seaborn as sns\n",
    "from scipy.stats import ttest_ind\n",
    "\n",
    "# preprocessing\n",
    "from sklearn.model_selection import train_test_split\n",
    "from sklearn.preprocessing import StandardScaler, OneHotEncoder\n",
    "from sklearn.compose import ColumnTransformer\n",
    "\n",
    "# Sampler\n",
    "from imblearn.over_sampling import SMOTENC\n",
    "from imblearn.under_sampling import RandomUnderSampler\n",
    "\n",
    "# modelling packages\n",
    "from sklearn.linear_model import LogisticRegression\n",
    "from sklearn.tree import DecisionTreeClassifier\n",
    "\n",
    "# model evaluation\n",
    "from sklearn.pipeline import Pipeline\n",
    "from sklearn.model_selection import GridSearchCV, cross_val_predict, cross_val_score\n",
    "from sklearn.metrics import recall_score, precision_score, f1_score, roc_auc_score, accuracy_score, confusion_matrix\n",
    "from sklearn.metrics import classification_report\n",
    "\n",
    "# Suppress warnings for cleaner output\n",
    "import warnings\n",
    "warnings.filterwarnings(\"ignore\")"
   ]
  },
  {
   "cell_type": "markdown",
   "id": "01faf839",
   "metadata": {},
   "source": [
    "# EDA "
   ]
  },
  {
   "cell_type": "markdown",
   "id": "2c62d51b",
   "metadata": {},
   "source": [
    "## Explore Categorical Features"
   ]
  },
  {
   "cell_type": "markdown",
   "id": "fd5a00ea",
   "metadata": {},
   "source": [
    "## Explore Numerical Features"
   ]
  },
  {
   "cell_type": "markdown",
   "id": "c4158faa",
   "metadata": {},
   "source": [
    "## Explore Target Variable"
   ]
  },
  {
   "cell_type": "markdown",
   "id": "6d48963f",
   "metadata": {},
   "source": [
    "## Relationship between Features and Target"
   ]
  },
  {
   "cell_type": "markdown",
   "id": "7f750e4a",
   "metadata": {},
   "source": [
    "# Data Engineering"
   ]
  },
  {
   "cell_type": "markdown",
   "id": "093b5e6c",
   "metadata": {},
   "source": [
    "## Explore and manage missing values"
   ]
  },
  {
   "cell_type": "markdown",
   "id": "f357c391",
   "metadata": {},
   "source": [
    "## Train Test Split"
   ]
  },
  {
   "cell_type": "code",
   "execution_count": null,
   "id": "11918c66",
   "metadata": {},
   "outputs": [],
   "source": [
    "# Split the training set into training and validation sets\n",
    "X_train, X_val, y_train, y_val = train_test_split(\n",
    "    X_clean, y_clean, stratify=y_clean, test_size=0.2, random_state=42\n",
    ")\n"
   ]
  },
  {
   "cell_type": "markdown",
   "id": "895e757d",
   "metadata": {},
   "source": [
    "## Data Preprocessing"
   ]
  },
  {
   "cell_type": "code",
   "execution_count": null,
   "id": "76205c59",
   "metadata": {},
   "outputs": [],
   "source": [
    "# Identify categorical columns (indices)\n",
    "categorical_features = X.select_dtypes(include=['object', 'category']).columns\n",
    "categorical_indices = [X.columns.get_loc(col) for col in categorical_features]"
   ]
  },
  {
   "cell_type": "code",
   "execution_count": null,
   "id": "83884d99",
   "metadata": {},
   "outputs": [],
   "source": [
    "preprocessing = ColumnTransformer(transformers=[\n",
    "    ('num', StandardScaler(), NumCols), # Numerical columns\n",
    "    ('cat', OneHotEncoder(handle_unknown='ignore', drop='first'), CatCols) # Categorical columns\n",
    "], remainder='passthrough') # Keep any other columns unchanged\n",
    "\n",
    "# Fit-transform training data (transform validation data later)\n",
    "X_train_processed = preprocessor.fit_transform(X_train)"
   ]
  },
  {
   "cell_type": "markdown",
   "id": "d45c3a2e",
   "metadata": {},
   "source": [
    "### Sampling Method 1 - SMOTE-NC"
   ]
  },
  {
   "cell_type": "code",
   "execution_count": null,
   "id": "4f071261",
   "metadata": {},
   "outputs": [],
   "source": [
    "# Initialize SMOTE-NC\n",
    "smote_nc = SMOTENC(categorical_features=categorical_indices, sampling_strategy='auto', k_neighbors=5, random_state=42)\n",
    "\n",
    "# Fit and resample\n",
    "X_train_smote_nc, y_smote_nc = smote_nc.fit_resample(X_train, y_train)"
   ]
  },
  {
   "cell_type": "markdown",
   "id": "fd4c8303",
   "metadata": {},
   "source": [
    "### Sampling Method 2 - SMOTE"
   ]
  },
  {
   "cell_type": "code",
   "execution_count": null,
   "id": "e37baf68",
   "metadata": {},
   "outputs": [],
   "source": [
    "# Initialize SMOTE\n",
    "smote = SMOTENC( sampling_strategy='auto', k_neighbors=5, random_state=42)\n",
    "\n",
    "# Apply SMOTE on processed numeric + one-hot encoded data\n",
    "X_train_smote, y_train_smote = smote.fit_resample(X_train_processed, y_train)"
   ]
  },
  {
   "cell_type": "markdown",
   "id": "ccd5eb6f",
   "metadata": {},
   "source": [
    "### Sampling Method 3 - Random Under Sampler"
   ]
  },
  {
   "cell_type": "code",
   "execution_count": null,
   "id": "cfd80da3",
   "metadata": {},
   "outputs": [],
   "source": [
    "# Initialize RandomUnderSampler\n",
    "rus = RandomUnderSampler(sampling_strategy='auto', random_state=42)\n",
    "\n",
    "# Apply under-sampling on processed numeric + one-hot encoded data\n",
    "X_train_rus, y_train_rus = rus.fit_resample(X_train_processed, y_train)"
   ]
  },
  {
   "cell_type": "code",
   "execution_count": 3,
   "id": "3925e168",
   "metadata": {},
   "outputs": [
    {
     "ename": "NameError",
     "evalue": "name 'X_train' is not defined",
     "output_type": "error",
     "traceback": [
      "\u001b[1;31m---------------------------------------------------------------------------\u001b[0m",
      "\u001b[1;31mNameError\u001b[0m                                 Traceback (most recent call last)",
      "Cell \u001b[1;32mIn[3], line 40\u001b[0m\n\u001b[0;32m     37\u001b[0m     plt\u001b[38;5;241m.\u001b[39mshow()\n\u001b[0;32m     39\u001b[0m \u001b[38;5;66;03m# Extract numeric columns only for PCA on raw data (for smote_nc and original)\u001b[39;00m\n\u001b[1;32m---> 40\u001b[0m X_train_numeric \u001b[38;5;241m=\u001b[39m \u001b[43mX_train\u001b[49m[NumCols]\u001b[38;5;241m.\u001b[39mvalues\n\u001b[0;32m     42\u001b[0m \u001b[38;5;66;03m# For smote_nc output (raw data), select numeric cols for PCA\u001b[39;00m\n\u001b[0;32m     43\u001b[0m X_train_smote_nc_numeric \u001b[38;5;241m=\u001b[39m X_train_smote_nc[NumCols]\u001b[38;5;241m.\u001b[39mvalues \u001b[38;5;28;01mif\u001b[39;00m \u001b[38;5;28mhasattr\u001b[39m(X_train_smote_nc, \u001b[38;5;124m'\u001b[39m\u001b[38;5;124miloc\u001b[39m\u001b[38;5;124m'\u001b[39m) \u001b[38;5;28;01melse\u001b[39;00m X_train_smote_nc[:, :\u001b[38;5;28mlen\u001b[39m(NumCols)]\n",
      "\u001b[1;31mNameError\u001b[0m: name 'X_train' is not defined"
     ]
    }
   ],
   "source": [
    "import matplotlib.pyplot as plt\n",
    "from sklearn.decomposition import PCA\n",
    "from sklearn.preprocessing import StandardScaler\n",
    "import numpy as np\n",
    "\n",
    "def plot_2d_pca(X_list, y_list, titles, sample_size=1000):\n",
    "    plt.figure(figsize=(16, 4 * len(X_list)))\n",
    "\n",
    "    for i, (X, y, title) in enumerate(zip(X_list, y_list, titles), 1):\n",
    "        # Convert sparse to dense if needed\n",
    "        if hasattr(X, \"toarray\"):\n",
    "            X = X.toarray()\n",
    "\n",
    "        # Subsample for speed\n",
    "        if X.shape[0] > sample_size:\n",
    "            idx = np.random.choice(X.shape[0], sample_size, replace=False)\n",
    "            X = X[idx]\n",
    "            y = y[idx]\n",
    "\n",
    "        # Scale before PCA\n",
    "        scaler = StandardScaler()\n",
    "        X_scaled = scaler.fit_transform(X)\n",
    "\n",
    "        pca = PCA(n_components=2, random_state=42)\n",
    "        X_pca = pca.fit_transform(X_scaled)\n",
    "\n",
    "        plt.subplot(len(X_list), 1, i)\n",
    "        for cls in np.unique(y):\n",
    "            plt.scatter(X_pca[y == cls, 0], X_pca[y == cls, 1], label=f\"Class {cls}\", alpha=0.6, edgecolors='w', s=30)\n",
    "        plt.title(title)\n",
    "        plt.xlabel(\"PCA Component 1\")\n",
    "        plt.ylabel(\"PCA Component 2\")\n",
    "        plt.legend()\n",
    "        plt.grid(True)\n",
    "\n",
    "    plt.tight_layout()\n",
    "    plt.show()\n",
    "\n",
    "# Extract numeric columns only for PCA on raw data (for smote_nc and original)\n",
    "X_train_numeric = X_train[NumCols].values\n",
    "\n",
    "# For smote_nc output (raw data), select numeric cols for PCA\n",
    "X_train_smote_nc_numeric = X_train_smote_nc[NumCols].values if hasattr(X_train_smote_nc, 'iloc') else X_train_smote_nc[:, :len(NumCols)]\n",
    "\n",
    "# Prepare data for plotting\n",
    "X_list = [\n",
    "    X_train_numeric,\n",
    "    X_train_processed,\n",
    "    X_train_smote_nc_numeric,\n",
    "    X_train_rus\n",
    "]\n",
    "\n",
    "y_list = [\n",
    "    y_train,\n",
    "    y_train,\n",
    "    y_smote_nc,\n",
    "    y_train_rus\n",
    "]\n",
    "\n",
    "titles = [\n",
    "    \"Original Training Data (Numeric Features Only)\",\n",
    "    \"Processed Training Data (Numeric + One-Hot)\",\n",
    "    \"After SMOTENC (Raw Data, Numeric Features Only for PCA)\",\n",
    "    \"After RandomUnderSampler (Processed Numeric + One-Hot)\"\n",
    "]\n",
    "\n",
    "plot_2d_pca(X_list, y_list, titles)\n"
   ]
  },
  {
   "cell_type": "markdown",
   "id": "bf34af09",
   "metadata": {},
   "source": [
    "### Sampling Method 4"
   ]
  },
  {
   "cell_type": "markdown",
   "id": "634f1955",
   "metadata": {
    "vscode": {
     "languageId": "plaintext"
    }
   },
   "source": [
    "# Modelling"
   ]
  },
  {
   "cell_type": "markdown",
   "id": "f65738db",
   "metadata": {},
   "source": [
    "## Model Building"
   ]
  },
  {
   "cell_type": "markdown",
   "id": "c93d245d",
   "metadata": {},
   "source": [
    "### Common functions for reproducibility"
   ]
  },
  {
   "cell_type": "markdown",
   "id": "c41a9d10",
   "metadata": {},
   "source": [
    "### Base model"
   ]
  },
  {
   "cell_type": "code",
   "execution_count": null,
   "id": "a990bcfb",
   "metadata": {},
   "outputs": [],
   "source": [
    "dt_model = DecisionTreeClassifier(random_state=42)\n",
    "lr_model = LogisticRegression(random_state=42, max_iter=1000)"
   ]
  },
  {
   "cell_type": "markdown",
   "id": "f849cbba",
   "metadata": {},
   "source": [
    "### Models with sampling method 1"
   ]
  },
  {
   "cell_type": "markdown",
   "id": "dd9b1144",
   "metadata": {},
   "source": [
    "### Models with sampling method 2"
   ]
  },
  {
   "cell_type": "markdown",
   "id": "9984a9fb",
   "metadata": {},
   "source": [
    "### Models with sampling method 3"
   ]
  },
  {
   "cell_type": "markdown",
   "id": "9779da84",
   "metadata": {},
   "source": [
    "### Models with sampling method 4"
   ]
  },
  {
   "cell_type": "markdown",
   "id": "79f88e84",
   "metadata": {},
   "source": [
    "This final sampling method is a hybrid method of sampling which combines SMOTE-NC and RUS\n",
    "\n",
    "https://www.mdpi.com/2078-2489/14/1/54"
   ]
  },
  {
   "cell_type": "markdown",
   "id": "912a7147",
   "metadata": {},
   "source": [
    "#### SMOTE-NC"
   ]
  },
  {
   "cell_type": "code",
   "execution_count": null,
   "id": "ff7b40d8",
   "metadata": {},
   "outputs": [],
   "source": [
    "# Identify categorical columns (indices)\n",
    "categorical_features = X.select_dtypes(include=['object', 'category']).columns\n",
    "categorical_indices = [X.columns.get_loc(col) for col in categorical_features]\n",
    "\n",
    "# Initialize SMOTE-NC\n",
    "desired_ratio = 0.8  # example: make minority class 80% of majority\n",
    "smote_nc = SMOTENC(categorical_features=categorical_indices, sampling_strategy=desired_ratio, k_neighbors=5, random_state=42)\n",
    "\n",
    "# Fit and resample\n",
    "X_resampled, y_resampled = smote_nc.fit_resample(X, y)"
   ]
  },
  {
   "cell_type": "markdown",
   "id": "ece4a7e2",
   "metadata": {},
   "source": [
    "#### RUS"
   ]
  },
  {
   "cell_type": "code",
   "execution_count": null,
   "id": "aa0d7fae",
   "metadata": {},
   "outputs": [],
   "source": [
    "# Initialize RUS to match minority class count\n",
    "rus = RandomUnderSampler(sampling_strategy='auto', random_state=42)\n",
    "\n",
    "# Apply undersampling\n",
    "X_hybrid, y_hybrid = rus.fit_resample(X_resampled, y_resampled)\n"
   ]
  },
  {
   "cell_type": "markdown",
   "id": "e34f55ec",
   "metadata": {},
   "source": [
    "### Visualize the differences"
   ]
  },
  {
   "cell_type": "code",
   "execution_count": null,
   "id": "0f8cb691",
   "metadata": {},
   "outputs": [],
   "source": [
    "fig, ax = plt.subplots(figsize=(10, 6), ncols=3, nrows=1)\n",
    "\n",
    "# Original y distribution\n",
    "sns.countplot(x=y, ax=ax[0])\n",
    "ax[0].set_title('Original y Distribution')\n",
    "\n",
    "# Resampled y distribution after SMOTE-NC\n",
    "sns.countplot(x=y_resampled, ax=ax[1])\n",
    "ax[1].set_title('y Distribution after SMOTE-NC')\n",
    "\n",
    "# Final y distribution after undersampling\n",
    "sns.countplot(x=y_hybrid, ax=ax[2])\n",
    "ax[2].set_title('y Distribution after Undersampling')\n",
    "plt.tight_layout()\n",
    "plt.show()\n"
   ]
  },
  {
   "cell_type": "markdown",
   "id": "5750610b",
   "metadata": {},
   "source": [
    "## Model Validation and Hyperparameter Tuning"
   ]
  },
  {
   "cell_type": "markdown",
   "id": "2de404e4",
   "metadata": {},
   "source": [
    "## Model Evaluation"
   ]
  },
  {
   "cell_type": "markdown",
   "id": "2abe9c4a",
   "metadata": {},
   "source": [
    "# Implications"
   ]
  },
  {
   "cell_type": "code",
   "execution_count": 1,
   "id": "7a629525-4462-41ed-a936-149da2a5af3c",
   "metadata": {},
   "outputs": [
    {
     "ename": "NameError",
     "evalue": "name 'test' is not defined",
     "output_type": "error",
     "traceback": [
      "\u001b[1;31m---------------------------------------------------------------------------\u001b[0m",
      "\u001b[1;31mNameError\u001b[0m                                 Traceback (most recent call last)",
      "Cell \u001b[1;32mIn[1], line 1\u001b[0m\n\u001b[1;32m----> 1\u001b[0m test\n",
      "\u001b[1;31mNameError\u001b[0m: name 'test' is not defined"
     ]
    }
   ],
   "source": [
    "test"
   ]
  },
  {
   "cell_type": "code",
   "execution_count": null,
   "id": "eecd6610-385c-4c7e-85af-fcb9352ae2c6",
   "metadata": {},
   "outputs": [],
   "source": []
  },
  {
   "cell_type": "markdown",
   "id": "2388ba41",
   "metadata": {},
   "source": [
    "# "
   ]
  }
 ],
 "metadata": {
  "kernelspec": {
   "display_name": "Python 3",
   "language": "python",
   "name": "python3"
  },
  "language_info": {
   "codemirror_mode": {
    "name": "ipython",
    "version": 3
   },
   "file_extension": ".py",
   "mimetype": "text/x-python",
   "name": "python",
   "nbconvert_exporter": "python",
   "pygments_lexer": "ipython3",
   "version": "3.8.20"
  }
 },
 "nbformat": 4,
 "nbformat_minor": 5
}
