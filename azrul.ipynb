{
 "cells": [
  {
   "cell_type": "markdown",
   "id": "2a473eed",
   "metadata": {},
   "source": [
    "### Key points about the dataset:\n",
    "\n",
    "* **Target Imbalance:** The positive class (subscribed = yes) is rare compared to negative (no).\n",
    "* **Data Size:** The dataset is fairly large (\\~40k rows).\n",
    "* **Feature Types:** Mix of categorical and numerical features.\n",
    "* **Goal:** Predict the minority positive class well without sacrificing overall performance.\n",
    "\n",
    "---\n",
    "\n",
    "### Common approaches for Bank Marketing dataset imbalance:\n",
    "\n",
    "| Method                                                    | Suitability & Why                                                                                                                                                                                                                                            |\n",
    "| --------------------------------------------------------- | ------------------------------------------------------------------------------------------------------------------------------------------------------------------------------------------------------------------------------------------------------------ |\n",
    "| **1. SMOTE (Synthetic Minority Over-sampling Technique)** | Widely used for imbalanced classification. Generates synthetic minority samples based on feature space similarities. Works well with numeric data and mixed features if properly encoded. Helps improve recall on minority without losing majority info.     |\n",
    "| **2. Class-weight adjustment**                            | Logistic Regression and Decision Tree can accept class weights directly (e.g., `class_weight='balanced'` in sklearn). No data alteration needed. Good for models that support it. Helps penalize misclassification of minority more strongly. Fast and easy. |\n",
    "| **3. Random Undersampling or Oversampling**               | Simple to implement. Undersampling reduces majority samples (can lose info), oversampling duplicates minority (can overfit). Good baseline approach to compare with SMOTE/class-weight.                                                                      |\n",
    "\n",
    "---\n",
    "\n",
    "### Why these 3 are **most suitable** for this dataset?\n",
    "\n",
    "* **SMOTE**: Because the dataset is large and numeric/categorical mix, SMOTE (with appropriate preprocessing) can help the model learn decision boundaries better for the minority class.\n",
    "* **Class-weight adjustment**: Many sklearn classifiers support class weights natively, so you can easily balance the importance of classes without changing the data distribution.\n",
    "* **Random undersampling/oversampling**: Provides a simple benchmark and comparison. Undersampling reduces dataset size (useful for big data), oversampling can fix imbalance but risks overfitting.\n",
    "\n",
    "---\n",
    "\n",
    "### Other methods and their fit:\n",
    "\n",
    "| Method                  | Notes for Bank Marketing dataset                                                                                                                      |\n",
    "| ----------------------- | ----------------------------------------------------------------------------------------------------------------------------------------------------- |\n",
    "| Cost-sensitive learning | Conceptually similar to class weights but requires custom loss function or model. More advanced, can be explored if time permits.                     |\n",
    "| Threshold moving        | Useful at prediction stage to balance precision/recall, but doesn't address training imbalance itself. Good as complementary step after training.     |\n",
    "| Balanced Bagging        | Ensemble technique to reduce bias on imbalance, computationally expensive but effective. Could be a good extension but not necessary as a first step. |\n",
    "\n",
    "---\n",
    "\n",
    "### Recommended **3 methods to implement for Part C**:\n",
    "\n",
    "1. **SMOTE**\n",
    "2. **Class-weight adjustment** (in Logistic Regression and Decision Tree)\n",
    "3. **Random undersampling** (or oversampling)\n",
    "\n",
    "---\n",
    "\n",
    "### Summary table for your report or slide:\n",
    "\n",
    "| Method                  | Description                              | Pros                                   | Cons                               | Suitable for Bank Dataset? |\n",
    "| ----------------------- | ---------------------------------------- | -------------------------------------- | ---------------------------------- | -------------------------- |\n",
    "| SMOTE                   | Generate synthetic minority samples      | Improves minority recall, no info loss | Needs numeric features or encoding | Yes                        |\n",
    "| Class-weight adjustment | Penalize minority misclassification more | Easy to implement, no data change      | Might not be enough alone          | Yes                        |\n",
    "| Random Undersampling    | Reduce majority samples                  | Simple, reduces training time          | May lose useful data               | Yes                        |\n",
    "| Cost-sensitive learning | Modify loss function                     | Powerful, direct control               | Complex to implement               | Optional                   |\n",
    "| Threshold moving        | Change decision threshold                | Helps tuning precision/recall tradeoff | Does not fix training imbalance    | Complementary only         |\n",
    "| Balanced Bagging        | Ensemble of balanced subsets             | Improves robustness                    | Computationally expensive          | Optional                   |\n",
    "\n"
   ]
  },
  {
   "cell_type": "code",
   "execution_count": 15,
   "id": "6a04a2a9",
   "metadata": {},
   "outputs": [],
   "source": [
    "# Importing relevant packages\n",
    "import pandas as pd\n",
    "import numpy as np\n",
    "import matplotlib.pyplot as plt\n",
    "import seaborn as sns\n",
    "from scipy.stats import ttest_ind\n",
    "\n",
    "# preprocessing\n",
    "from sklearn.model_selection import train_test_split\n",
    "from sklearn.preprocessing import StandardScaler, OneHotEncoder\n",
    "from sklearn.compose import ColumnTransformer\n",
    "\n",
    "# Sampler\n",
    "from imblearn.over_sampling import SMOTENC, SMOTE, RandomOverSampler\n",
    "from imblearn.under_sampling import RandomUnderSampler\n",
    "\n",
    "# modelling packages\n",
    "from sklearn.linear_model import LogisticRegression\n",
    "from sklearn.tree import DecisionTreeClassifier\n",
    "\n",
    "# model evaluation\n",
    "from sklearn.pipeline import Pipeline\n",
    "from sklearn.model_selection import GridSearchCV, cross_val_predict, cross_val_score\n",
    "from sklearn.metrics import recall_score, precision_score, f1_score, roc_auc_score, accuracy_score, confusion_matrix\n",
    "from sklearn.metrics import classification_report\n",
    "\n",
    "# Suppress warnings for cleaner output\n",
    "import warnings\n",
    "warnings.filterwarnings(\"ignore\")"
   ]
  },
  {
   "cell_type": "code",
   "execution_count": 3,
   "id": "398dcc3e",
   "metadata": {},
   "outputs": [
    {
     "data": {
      "application/vnd.microsoft.datawrangler.viewer.v0+json": {
       "columns": [
        {
         "name": "index",
         "rawType": "int64",
         "type": "integer"
        },
        {
         "name": "age",
         "rawType": "int64",
         "type": "integer"
        },
        {
         "name": "job",
         "rawType": "object",
         "type": "string"
        },
        {
         "name": "marital",
         "rawType": "object",
         "type": "string"
        },
        {
         "name": "education",
         "rawType": "object",
         "type": "string"
        },
        {
         "name": "default",
         "rawType": "object",
         "type": "string"
        },
        {
         "name": "housing",
         "rawType": "object",
         "type": "string"
        },
        {
         "name": "loan",
         "rawType": "object",
         "type": "string"
        },
        {
         "name": "contact",
         "rawType": "object",
         "type": "string"
        },
        {
         "name": "month",
         "rawType": "object",
         "type": "string"
        },
        {
         "name": "day_of_week",
         "rawType": "object",
         "type": "string"
        },
        {
         "name": "duration",
         "rawType": "int64",
         "type": "integer"
        },
        {
         "name": "campaign",
         "rawType": "int64",
         "type": "integer"
        },
        {
         "name": "pdays",
         "rawType": "int64",
         "type": "integer"
        },
        {
         "name": "previous",
         "rawType": "int64",
         "type": "integer"
        },
        {
         "name": "poutcome",
         "rawType": "object",
         "type": "string"
        },
        {
         "name": "emp.var.rate",
         "rawType": "float64",
         "type": "float"
        },
        {
         "name": "cons.price.idx",
         "rawType": "float64",
         "type": "float"
        },
        {
         "name": "cons.conf.idx",
         "rawType": "float64",
         "type": "float"
        },
        {
         "name": "euribor3m",
         "rawType": "float64",
         "type": "float"
        },
        {
         "name": "nr.employed",
         "rawType": "float64",
         "type": "float"
        },
        {
         "name": "y",
         "rawType": "object",
         "type": "string"
        }
       ],
       "ref": "cf192327-cba0-464f-870f-36af01eb4f7e",
       "rows": [
        [
         "0",
         "56",
         "housemaid",
         "married",
         "basic.4y",
         "no",
         "no",
         "no",
         "telephone",
         "may",
         "mon",
         "261",
         "1",
         "999",
         "0",
         "nonexistent",
         "1.1",
         "93.994",
         "-36.4",
         "4.857",
         "5191.0",
         "no"
        ],
        [
         "1",
         "57",
         "services",
         "married",
         "high.school",
         "unknown",
         "no",
         "no",
         "telephone",
         "may",
         "mon",
         "149",
         "1",
         "999",
         "0",
         "nonexistent",
         "1.1",
         "93.994",
         "-36.4",
         "4.857",
         "5191.0",
         "no"
        ],
        [
         "2",
         "37",
         "services",
         "married",
         "high.school",
         "no",
         "yes",
         "no",
         "telephone",
         "may",
         "mon",
         "226",
         "1",
         "999",
         "0",
         "nonexistent",
         "1.1",
         "93.994",
         "-36.4",
         "4.857",
         "5191.0",
         "no"
        ],
        [
         "3",
         "40",
         "admin.",
         "married",
         "basic.6y",
         "no",
         "no",
         "no",
         "telephone",
         "may",
         "mon",
         "151",
         "1",
         "999",
         "0",
         "nonexistent",
         "1.1",
         "93.994",
         "-36.4",
         "4.857",
         "5191.0",
         "no"
        ],
        [
         "4",
         "56",
         "services",
         "married",
         "high.school",
         "no",
         "no",
         "yes",
         "telephone",
         "may",
         "mon",
         "307",
         "1",
         "999",
         "0",
         "nonexistent",
         "1.1",
         "93.994",
         "-36.4",
         "4.857",
         "5191.0",
         "no"
        ]
       ],
       "shape": {
        "columns": 21,
        "rows": 5
       }
      },
      "text/html": [
       "<div>\n",
       "<style scoped>\n",
       "    .dataframe tbody tr th:only-of-type {\n",
       "        vertical-align: middle;\n",
       "    }\n",
       "\n",
       "    .dataframe tbody tr th {\n",
       "        vertical-align: top;\n",
       "    }\n",
       "\n",
       "    .dataframe thead th {\n",
       "        text-align: right;\n",
       "    }\n",
       "</style>\n",
       "<table border=\"1\" class=\"dataframe\">\n",
       "  <thead>\n",
       "    <tr style=\"text-align: right;\">\n",
       "      <th></th>\n",
       "      <th>age</th>\n",
       "      <th>job</th>\n",
       "      <th>marital</th>\n",
       "      <th>education</th>\n",
       "      <th>default</th>\n",
       "      <th>housing</th>\n",
       "      <th>loan</th>\n",
       "      <th>contact</th>\n",
       "      <th>month</th>\n",
       "      <th>day_of_week</th>\n",
       "      <th>...</th>\n",
       "      <th>campaign</th>\n",
       "      <th>pdays</th>\n",
       "      <th>previous</th>\n",
       "      <th>poutcome</th>\n",
       "      <th>emp.var.rate</th>\n",
       "      <th>cons.price.idx</th>\n",
       "      <th>cons.conf.idx</th>\n",
       "      <th>euribor3m</th>\n",
       "      <th>nr.employed</th>\n",
       "      <th>y</th>\n",
       "    </tr>\n",
       "  </thead>\n",
       "  <tbody>\n",
       "    <tr>\n",
       "      <th>0</th>\n",
       "      <td>56</td>\n",
       "      <td>housemaid</td>\n",
       "      <td>married</td>\n",
       "      <td>basic.4y</td>\n",
       "      <td>no</td>\n",
       "      <td>no</td>\n",
       "      <td>no</td>\n",
       "      <td>telephone</td>\n",
       "      <td>may</td>\n",
       "      <td>mon</td>\n",
       "      <td>...</td>\n",
       "      <td>1</td>\n",
       "      <td>999</td>\n",
       "      <td>0</td>\n",
       "      <td>nonexistent</td>\n",
       "      <td>1.1</td>\n",
       "      <td>93.994</td>\n",
       "      <td>-36.4</td>\n",
       "      <td>4.857</td>\n",
       "      <td>5191.0</td>\n",
       "      <td>no</td>\n",
       "    </tr>\n",
       "    <tr>\n",
       "      <th>1</th>\n",
       "      <td>57</td>\n",
       "      <td>services</td>\n",
       "      <td>married</td>\n",
       "      <td>high.school</td>\n",
       "      <td>unknown</td>\n",
       "      <td>no</td>\n",
       "      <td>no</td>\n",
       "      <td>telephone</td>\n",
       "      <td>may</td>\n",
       "      <td>mon</td>\n",
       "      <td>...</td>\n",
       "      <td>1</td>\n",
       "      <td>999</td>\n",
       "      <td>0</td>\n",
       "      <td>nonexistent</td>\n",
       "      <td>1.1</td>\n",
       "      <td>93.994</td>\n",
       "      <td>-36.4</td>\n",
       "      <td>4.857</td>\n",
       "      <td>5191.0</td>\n",
       "      <td>no</td>\n",
       "    </tr>\n",
       "    <tr>\n",
       "      <th>2</th>\n",
       "      <td>37</td>\n",
       "      <td>services</td>\n",
       "      <td>married</td>\n",
       "      <td>high.school</td>\n",
       "      <td>no</td>\n",
       "      <td>yes</td>\n",
       "      <td>no</td>\n",
       "      <td>telephone</td>\n",
       "      <td>may</td>\n",
       "      <td>mon</td>\n",
       "      <td>...</td>\n",
       "      <td>1</td>\n",
       "      <td>999</td>\n",
       "      <td>0</td>\n",
       "      <td>nonexistent</td>\n",
       "      <td>1.1</td>\n",
       "      <td>93.994</td>\n",
       "      <td>-36.4</td>\n",
       "      <td>4.857</td>\n",
       "      <td>5191.0</td>\n",
       "      <td>no</td>\n",
       "    </tr>\n",
       "    <tr>\n",
       "      <th>3</th>\n",
       "      <td>40</td>\n",
       "      <td>admin.</td>\n",
       "      <td>married</td>\n",
       "      <td>basic.6y</td>\n",
       "      <td>no</td>\n",
       "      <td>no</td>\n",
       "      <td>no</td>\n",
       "      <td>telephone</td>\n",
       "      <td>may</td>\n",
       "      <td>mon</td>\n",
       "      <td>...</td>\n",
       "      <td>1</td>\n",
       "      <td>999</td>\n",
       "      <td>0</td>\n",
       "      <td>nonexistent</td>\n",
       "      <td>1.1</td>\n",
       "      <td>93.994</td>\n",
       "      <td>-36.4</td>\n",
       "      <td>4.857</td>\n",
       "      <td>5191.0</td>\n",
       "      <td>no</td>\n",
       "    </tr>\n",
       "    <tr>\n",
       "      <th>4</th>\n",
       "      <td>56</td>\n",
       "      <td>services</td>\n",
       "      <td>married</td>\n",
       "      <td>high.school</td>\n",
       "      <td>no</td>\n",
       "      <td>no</td>\n",
       "      <td>yes</td>\n",
       "      <td>telephone</td>\n",
       "      <td>may</td>\n",
       "      <td>mon</td>\n",
       "      <td>...</td>\n",
       "      <td>1</td>\n",
       "      <td>999</td>\n",
       "      <td>0</td>\n",
       "      <td>nonexistent</td>\n",
       "      <td>1.1</td>\n",
       "      <td>93.994</td>\n",
       "      <td>-36.4</td>\n",
       "      <td>4.857</td>\n",
       "      <td>5191.0</td>\n",
       "      <td>no</td>\n",
       "    </tr>\n",
       "  </tbody>\n",
       "</table>\n",
       "<p>5 rows × 21 columns</p>\n",
       "</div>"
      ],
      "text/plain": [
       "   age        job  marital    education  default housing loan    contact  \\\n",
       "0   56  housemaid  married     basic.4y       no      no   no  telephone   \n",
       "1   57   services  married  high.school  unknown      no   no  telephone   \n",
       "2   37   services  married  high.school       no     yes   no  telephone   \n",
       "3   40     admin.  married     basic.6y       no      no   no  telephone   \n",
       "4   56   services  married  high.school       no      no  yes  telephone   \n",
       "\n",
       "  month day_of_week  ...  campaign  pdays  previous     poutcome emp.var.rate  \\\n",
       "0   may         mon  ...         1    999         0  nonexistent          1.1   \n",
       "1   may         mon  ...         1    999         0  nonexistent          1.1   \n",
       "2   may         mon  ...         1    999         0  nonexistent          1.1   \n",
       "3   may         mon  ...         1    999         0  nonexistent          1.1   \n",
       "4   may         mon  ...         1    999         0  nonexistent          1.1   \n",
       "\n",
       "   cons.price.idx  cons.conf.idx  euribor3m  nr.employed   y  \n",
       "0          93.994          -36.4      4.857       5191.0  no  \n",
       "1          93.994          -36.4      4.857       5191.0  no  \n",
       "2          93.994          -36.4      4.857       5191.0  no  \n",
       "3          93.994          -36.4      4.857       5191.0  no  \n",
       "4          93.994          -36.4      4.857       5191.0  no  \n",
       "\n",
       "[5 rows x 21 columns]"
      ]
     },
     "execution_count": 3,
     "metadata": {},
     "output_type": "execute_result"
    }
   ],
   "source": [
    "df = pd.read_csv('dataset/bank-additional-full.csv', sep=';')\n",
    "df.head()"
   ]
  },
  {
   "cell_type": "code",
   "execution_count": 4,
   "id": "763d272f",
   "metadata": {},
   "outputs": [],
   "source": [
    "y_clean = df['y'].replace({'yes': 1, 'no': 0})\n",
    "X_clean = df.drop(columns=['y'])"
   ]
  },
  {
   "cell_type": "code",
   "execution_count": 5,
   "id": "205cc60c",
   "metadata": {},
   "outputs": [],
   "source": [
    "NumCols = X_clean.select_dtypes(include=['int64', 'float64']).columns.tolist()\n",
    "CatCols = X_clean.select_dtypes(include=['object']).columns.tolist()"
   ]
  },
  {
   "cell_type": "code",
   "execution_count": 6,
   "id": "0ef7a567",
   "metadata": {},
   "outputs": [],
   "source": [
    "# Split the training set into training and validation sets\n",
    "X_train, X_test, y_train, y_test = train_test_split(\n",
    "    X_clean, y_clean, stratify=y_clean, test_size=0.2, random_state=42\n",
    ")\n"
   ]
  },
  {
   "cell_type": "markdown",
   "id": "25c53b62",
   "metadata": {},
   "source": [
    "## Data Preprocessing"
   ]
  },
  {
   "cell_type": "code",
   "execution_count": 7,
   "id": "3e46cc0c",
   "metadata": {},
   "outputs": [],
   "source": [
    "# Identify categorical columns (indices)\n",
    "categorical_features = X_clean.select_dtypes(include=['object', 'category']).columns\n",
    "categorical_indices = [X_clean.columns.get_loc(col) for col in categorical_features]"
   ]
  },
  {
   "cell_type": "code",
   "execution_count": 8,
   "id": "4ad7ce32",
   "metadata": {},
   "outputs": [],
   "source": [
    "preprocessor = ColumnTransformer(transformers=[\n",
    "    ('num', StandardScaler(), NumCols),  # Numerical columns\n",
    "    ('cat', OneHotEncoder(handle_unknown='ignore', drop='first'), CatCols)  # Categorical columns\n",
    "], remainder='passthrough')\n",
    "\n",
    "X_train_processed = preprocessor.fit_transform(X_train)\n",
    "X_test_processed = preprocessor.transform(X_test)\n"
   ]
  },
  {
   "cell_type": "markdown",
   "id": "6252d19d",
   "metadata": {},
   "source": [
    "### Sampling Method 1 - SMOTE (Synthetic Minority Over-sampling Technique)"
   ]
  },
  {
   "cell_type": "code",
   "execution_count": 12,
   "id": "a1598c2a",
   "metadata": {},
   "outputs": [
    {
     "name": "stdout",
     "output_type": "stream",
     "text": [
      "Before SMOTE class distribution: [29238  3712]\n",
      "After SMOTE class distribution: [29238 29238]\n"
     ]
    }
   ],
   "source": [
    "# Initialize SMOTE\n",
    "smote = SMOTE( sampling_strategy='auto', k_neighbors=5, random_state=42)\n",
    "\n",
    "# Apply SMOTE on processed numeric + one-hot encoded data\n",
    "X_train_smote, y_train_smote = smote.fit_resample(X_train_processed, y_train)\n",
    "\n",
    "print(\"Before SMOTE class distribution:\", np.bincount(y_train))\n",
    "print(\"After SMOTE class distribution:\", np.bincount(y_train_smote))"
   ]
  },
  {
   "cell_type": "markdown",
   "id": "37cf54a3",
   "metadata": {},
   "source": [
    "### Sampling Method 2 - Random Under Sampler"
   ]
  },
  {
   "cell_type": "code",
   "execution_count": 20,
   "id": "c15b0e1c",
   "metadata": {},
   "outputs": [
    {
     "name": "stdout",
     "output_type": "stream",
     "text": [
      "Before Random Undersampling class distribution: [29238  3712]\n",
      "After Random Undersampling class distribution: [3712 3712]\n"
     ]
    }
   ],
   "source": [
    "# Initialize RandomUnderSampler\n",
    "rus = RandomUnderSampler(sampling_strategy='auto', random_state=42)\n",
    "\n",
    "# Apply under-sampling on processed numeric + one-hot encoded data\n",
    "X_train_rus, y_train_rus = rus.fit_resample(X_train_processed, y_train)\n",
    "\n",
    "print(\"Before Random Undersampling class distribution:\", np.bincount(y_train))\n",
    "print(\"After Random Undersampling class distribution:\", np.bincount(y_train_rus))"
   ]
  },
  {
   "cell_type": "code",
   "execution_count": 21,
   "id": "84483b58",
   "metadata": {},
   "outputs": [
    {
     "name": "stdout",
     "output_type": "stream",
     "text": [
      "Before Random Oversampling class distribution: [29238  3712]\n",
      "After Random Oversampling class distribution: [29238 29238]\n"
     ]
    }
   ],
   "source": [
    "# Initialize RandomOverSampler\n",
    "ros = RandomOverSampler(sampling_strategy='auto', random_state=42)\n",
    "\n",
    "# Apply over-sampling on processed numeric + one-hot encoded data\n",
    "X_train_ros, y_train_ros = ros.fit_resample(X_train_processed, y_train)\n",
    "\n",
    "print(\"Before Random Oversampling class distribution:\", np.bincount(y_train))\n",
    "print(\"After Random Oversampling class distribution:\", np.bincount(y_train_ros))"
   ]
  },
  {
   "cell_type": "markdown",
   "id": "f491d528",
   "metadata": {},
   "source": [
    "### Sampling Method 3 - Class-weight Adjustment"
   ]
  },
  {
   "cell_type": "code",
   "execution_count": 23,
   "id": "89d3a2d3",
   "metadata": {},
   "outputs": [],
   "source": [
    "# 2. Class-weight adjustment (no sampling done here, just a note)\n",
    "# This is a model parameter, so no data change. Just a placeholder comment:\n",
    "# When you train your model, pass class_weight='balanced' to handle imbalance."
   ]
  },
  {
   "cell_type": "code",
   "execution_count": null,
   "id": "2df403d4",
   "metadata": {},
   "outputs": [],
   "source": [
    "# Logistic Regression with class weights\n",
    "lr_weighted = LogisticRegression(class_weight='balanced', max_iter=1000, random_state=42)\n",
    "lr_weighted.fit(X_train_processed, y_train)\n",
    "\n",
    "y_pred_weighted = lr_weighted.predict(X_val_processed)\n",
    "y_prob_weighted = lr_weighted.predict_proba(X_val_processed)[:, 1]\n",
    "\n",
    "print(\"Class-weight Logistic Regression Metrics:\")\n",
    "print(\"Accuracy:\", accuracy_score(y_val, y_pred_weighted))\n",
    "print(\"Precision:\", precision_score(y_val, y_pred_weighted))\n",
    "print(\"Recall:\", recall_score(y_val, y_pred_weighted))\n",
    "print(\"F1-Score:\", f1_score(y_val, y_pred_weighted))\n",
    "print(\"AUC:\", roc_auc_score(y_val, y_prob_weighted))\n",
    "\n",
    "# Decision Tree with class weights\n",
    "dt_weighted = DecisionTreeClassifier(class_weight='balanced', random_state=42)\n",
    "dt_weighted.fit(X_train_processed, y_train)\n",
    "\n",
    "y_pred_dt_weighted = dt_weighted.predict(X_val_processed)\n",
    "y_prob_dt_weighted = dt_weighted.predict_proba(X_val_processed)[:, 1]\n",
    "\n",
    "print(\"Class-weight Decision Tree Metrics:\")\n",
    "print(\"Accuracy:\", accuracy_score(y_val, y_pred_dt_weighted))\n",
    "print(\"Precision:\", precision_score(y_val, y_pred_dt_weighted))\n",
    "print(\"Recall:\", recall_score(y_val, y_pred_dt_weighted))\n",
    "print(\"F1-Score:\", f1_score(y_val, y_pred_dt_weighted))\n",
    "print(\"AUC:\", roc_auc_score(y_val, y_prob_dt_weighted))\n"
   ]
  },
  {
   "cell_type": "markdown",
   "id": "007c058c",
   "metadata": {},
   "source": [
    "### Imbalance Plotting"
   ]
  },
  {
   "cell_type": "code",
   "execution_count": 24,
   "id": "e557cb51",
   "metadata": {},
   "outputs": [
    {
     "data": {
      "image/png": "[encoded data removed]",
      "text/plain": [
       "<Figure size 1200x1000 with 4 Axes>"
      ]
     },
     "metadata": {},
     "output_type": "display_data"
    }
   ],
   "source": [
    "import matplotlib.pyplot as plt\n",
    "import seaborn as sns\n",
    "import pandas as pd\n",
    "\n",
    "# Helper function to plot class distributions\n",
    "def plot_class_distribution(y_data, title, ax):\n",
    "    sns.countplot(x=y_data, palette=\"pastel\", ax=ax)\n",
    "    ax.set_title(title)\n",
    "    ax.set_xlabel(\"Class\")\n",
    "    ax.set_ylabel(\"Count\")\n",
    "\n",
    "# Create a figure with subplots\n",
    "fig, axes = plt.subplots(2, 2, figsize=(12, 10))\n",
    "fig.suptitle(\"Class Distribution Before and After Sampling\", fontsize=16)\n",
    "\n",
    "# Plot original distribution\n",
    "plot_class_distribution(y_train, \"Original (Before Sampling)\", axes[0, 0])\n",
    "\n",
    "# Plot SMOTE distribution\n",
    "plot_class_distribution(y_train_smote, \"After SMOTE\", axes[0, 1])\n",
    "\n",
    "# Plot Random Undersampling distribution\n",
    "plot_class_distribution(y_train_rus, \"After Random Undersampling\", axes[1, 0])\n",
    "\n",
    "# Plot Random Oversampling distribution\n",
    "plot_class_distribution(y_train_ros, \"After Random Oversampling\", axes[1, 1])\n",
    "\n",
    "# Adjust layout\n",
    "plt.tight_layout(rect=[0, 0.03, 1, 0.95])\n",
    "plt.show()\n"
   ]
  },
  {
   "cell_type": "code",
   "execution_count": null,
   "id": "14173cdb",
   "metadata": {},
   "outputs": [],
   "source": []
  }
 ],
 "metadata": {
  "kernelspec": {
   "display_name": "Python 3",
   "language": "python",
   "name": "python3"
  },
  "language_info": {
   "codemirror_mode": {
    "name": "ipython",
    "version": 3
   },
   "file_extension": ".py",
   "mimetype": "text/x-python",
   "name": "python",
   "nbconvert_exporter": "python",
   "pygments_lexer": "ipython3",
   "version": "3.8.20"
  }
 },
 "nbformat": 4,
 "nbformat_minor": 5
}
